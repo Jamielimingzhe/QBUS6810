{
 "cells": [
  {
   "cell_type": "markdown",
   "id": "06d2f722-74ad-451d-8b9f-5b974c368aa3",
   "metadata": {},
   "source": [
    "# <font color = '#e64626'><center>QBUS6810 Group Assignment</center></font>\n",
    "### <center>Group 18: 490347812, , , , , </center>"
   ]
  },
  {
   "cell_type": "markdown",
   "id": "584136f9-e7ef-4fd7-966c-1b03d1bfb963",
   "metadata": {},
   "source": [
    "# Table of Contents\n",
    "\n",
    "1. [Data Processing](#data_processing)\n",
    "2. [Exploratory Data Analysis](#eda)\n",
    "3. [Feature Engineering](#feature_engineering)\n",
    "4. [Methodology](#methodology)\n",
    "<br> 4.1 [Model 1: *model name*](#model_1)\n",
    "<br> 4.2 [Model 2: *model name*](#model_2)\n",
    "<br> 4.3 [Model 3: *model name*](#model_3)\n",
    "<br> 4.4 [Model 4: *model name*](#model_4)\n",
    "<br> 4.5 [Model 5: *model name*](#model_5)"
   ]
  },
  {
   "cell_type": "code",
   "execution_count": 1,
   "id": "ec6a19c0-036b-40fe-abf5-363a84ee84c9",
   "metadata": {},
   "outputs": [],
   "source": [
    "import numpy as np\n",
    "import pandas as pd\n",
    "\n",
    "import seaborn as sns\n",
    "import matplotlib.pyplot as plt\n",
    "\n",
    "from tqdm import tqdm\n",
    "from sklearn.feature_extraction.text import TfidfVectorizer,CountVectorizer\n",
    "# from sklearn.linear_model import \n",
    "# from sklearn.feature_extraction.text import \n",
    "from sklearn.model_selection import train_test_split,cross_val_predict\n",
    "from sklearn.preprocessing import StandardScaler\n",
    "from sklearn.linear_model import LinearRegression,RidgeCV, Ridge,LassoCV, Lasso,ElasticNetCV, ElasticNet\n",
    "# from sklearn.linear_model import \n",
    "# from sklearn.linear_model import \n",
    "from sklearn.metrics import mean_squared_error, r2_score\n",
    "# from sklearn.model_selection import \n",
    "\n",
    "# import statsmodels.api as sm\n",
    "# import nltk\n",
    "# import ast\n",
    "# from nltk.tokenize import word_tokenize as wt"
   ]
  },
  {
   "cell_type": "code",
   "execution_count": 2,
   "id": "3ece2b42-3683-479a-9dc0-bdc31293fbad",
   "metadata": {},
   "outputs": [],
   "source": [
    "rc = {\"xtick.labelsize\": 12, \"ytick.labelsize\": 12, \"axes.labelsize\": 15, \n",
    "      \"axes.titlesize\": 15, \"legend.fontsize\": 12}\n",
    "sns.set_context(\"notebook\", rc=rc)  "
   ]
  },
  {
   "cell_type": "markdown",
   "id": "64c0819f-19be-4ea4-ad81-43df63775042",
   "metadata": {},
   "source": [
    "## <font color = '#e64626'><a id='data_processing'>1. Data Processing</a></font>"
   ]
  },
  {
   "cell_type": "code",
   "execution_count": 293,
   "id": "5a06e288-751e-422c-a0a5-7ab5dee708e6",
   "metadata": {},
   "outputs": [],
   "source": [
    "train = pd.read_csv('train.csv')\n",
    "test = pd.read_csv('test.csv')\n",
    "y_train = train['price']\n",
    "y_train_log = np.log(train['price'])"
   ]
  },
  {
   "cell_type": "code",
   "execution_count": 34,
   "id": "313533e7",
   "metadata": {},
   "outputs": [],
   "source": [
    "train[\"host_response_time\"] = train[\"host_response_time\"].fillna('Others')\n",
    "host_dummies = pd.get_dummies(train[[\"host_response_time\",\"host_is_superhost\",\"host_identity_verified\"]],drop_first=True)\n",
    "\n",
    "train[\"host_response_rate\"] = train[\"host_response_rate\"].str.rstrip('%').astype('float') / 100.0\n",
    "train[\"host_acceptance_rate\"] = train[\"host_acceptance_rate\"].str.rstrip('%').astype('float') / 100.0"
   ]
  },
  {
   "cell_type": "code",
   "execution_count": 294,
   "id": "7eb71d8f",
   "metadata": {},
   "outputs": [],
   "source": [
    "train[\"host_verifications_clean\"] = train['host_verifications'].astype('object')\n",
    "for i in range(len(train[\"host_verifications\"])):\n",
    "    if train.loc[i,\"host_verifications\"] == \"[]\":\n",
    "        train.at[i,\"host_verifications_clean\"] = []\n",
    "    else:\n",
    "        train.at[i,\"host_verifications_clean\"] = train.loc[i,\"host_verifications\"][2:-2].split(\"', '\")\n",
    "    \n",
    "train['host_verifications_counts'] = [len(i) for i in train[\"host_verifications_clean\"]]"
   ]
  },
  {
   "cell_type": "markdown",
   "id": "4b46204b-fdd5-4acc-a057-6248a390e13c",
   "metadata": {},
   "source": [
    "## <font color = '#e64626'><a id='eda'>2. Exploratory Data Analysis</a></font>\n",
    "\n",
    "The example provided here is to show you how to save figures of an appropriate resolution by using <tt>dpi</tt>. The <tt>bbox_inches='tight'</tt> is used to ensure that when your figure is saved, there are no cropping issues. In the example, the figure is saved as a <tt>.png</tt>, but you may also want to save your figures as a <tt>.pdf</tt>.\n",
    "\n",
    "When you produce figures, make sure that all axes labels are readable. This notebook has been setup so that in general, the fontsizes are readable. These are defined in cell [2].\n",
    "\n",
    "You can change the dimensions of the figure by changing the `figsize`."
   ]
  },
  {
   "cell_type": "code",
   "execution_count": 155,
   "id": "b8508555",
   "metadata": {},
   "outputs": [],
   "source": [
    "# Both Rate Seems to have no relationship with price, they are dropped\n",
    "# plt.scatter(train[\"host_response_rate\"],y_train_log)\n",
    "# plt.scatter(train[\"host_acceptance_rate\"],y_train_log)\n",
    "# plt.scatter(train[\"host_listings_count\"],y_train_log)"
   ]
  },
  {
   "cell_type": "code",
   "execution_count": 4,
   "id": "a39f289a-a570-4d0a-8a91-ee2b784fa16b",
   "metadata": {},
   "outputs": [
    {
     "data": {
      "image/png": "[encoded data removed]",
      "text/plain": [
       "<Figure size 360x288 with 1 Axes>"
      ]
     },
     "metadata": {
      "needs_background": "light"
     },
     "output_type": "display_data"
    }
   ],
   "source": [
    "plt.figure(figsize=(5, 4))\n",
    "plt.hist(y_train, bins=100);\n",
    "plt.xlabel('Price (AUD)')\n",
    "plt.ylabel('Number of listings')\n",
    "plt.savefig('hist_of_response.png', dpi=300, bbox_inches='tight')"
   ]
  },
  {
   "cell_type": "markdown",
   "id": "0e03b45d-52a3-47b7-aa05-76312ebdeb44",
   "metadata": {},
   "source": [
    "## <font color = '#e64626'><a id='feature_engineering'>3. Feature Engineering</a></font>"
   ]
  },
  {
   "cell_type": "code",
   "execution_count": null,
   "id": "8f47dbd7-96eb-4c54-be4c-58c0e6b99dd2",
   "metadata": {},
   "outputs": [],
   "source": []
  },
  {
   "cell_type": "markdown",
   "id": "94ae63d4-82f8-4303-a422-cd5e6bbf2d24",
   "metadata": {},
   "source": [
    "## <font color = '#e64626'><a id='methodology'>4. Methodology</a></font>"
   ]
  },
  {
   "cell_type": "code",
   "execution_count": null,
   "id": "0bac3c2e-85df-4359-9ecd-de4e98c1faf3",
   "metadata": {},
   "outputs": [],
   "source": []
  },
  {
   "cell_type": "markdown",
   "id": "3b73bf77-7ecf-4b69-b527-2094c47fbf97",
   "metadata": {},
   "source": [
    "### <font color = '#e64626'><a id='model_1'>4.1. Model 1: Baseline</a></font>\n",
    "\n",
    "This is a very simple model where we predict the average house price every time, i.e.\n",
    "\n",
    "$$\\hat{y}=\\bar{y}$$\n",
    "\n",
    "The models you build should be much more interesting than this one!"
   ]
  },
  {
   "cell_type": "code",
   "execution_count": 5,
   "id": "0b799ffb-011a-44ea-83b3-7888d4d9b1b6",
   "metadata": {},
   "outputs": [
    {
     "name": "stdout",
     "output_type": "stream",
     "text": [
      "Mean price: $269.46\n"
     ]
    }
   ],
   "source": [
    "mean_price = np.mean(y_train)\n",
    "print('Mean price: ${:.2f}'.format(mean_price))"
   ]
  },
  {
   "cell_type": "markdown",
   "id": "16023d6c-c915-454e-806f-cbac831f83df",
   "metadata": {},
   "source": [
    "Now we need to generate the submission file."
   ]
  },
  {
   "cell_type": "code",
   "execution_count": 6,
   "id": "d8ef81f3-e305-42b7-8dad-bc728908f800",
   "metadata": {},
   "outputs": [],
   "source": [
    "id_col = np.arange(2000).reshape(-1, 1)\n",
    "y_pred = mean_price*np.ones(2000).reshape(-1, 1)\n",
    "\n",
    "data = np.hstack((id_col, y_pred))\n",
    "\n",
    "m1_submission = pd.DataFrame(data, columns=['id', 'price'])\n",
    "m1_submission['id'] = m1_submission['id'].astype('int')\n",
    "\n",
    "m1_submission.to_csv('model1_submission.csv', index=False)"
   ]
  },
  {
   "cell_type": "markdown",
   "id": "a08c5455-5050-42f7-a133-982d0ca7657f",
   "metadata": {},
   "source": [
    "### <font color = '#e64626'><a id='model_2'>4.2. Model 2: *model name*</a></font>"
   ]
  },
  {
   "cell_type": "code",
   "execution_count": null,
   "id": "9f31e0fa-1595-437b-bd28-a17b98dd6330",
   "metadata": {},
   "outputs": [],
   "source": []
  },
  {
   "cell_type": "markdown",
   "id": "cc7d2892-d6e3-4c1c-8743-1420a9c1884e",
   "metadata": {},
   "source": [
    "### <font color = '#e64626'><a id='model_3'>4.2. Model 3: *model name*</a></font>"
   ]
  },
  {
   "cell_type": "code",
   "execution_count": null,
   "id": "19357435-773a-49d4-9bde-b15f2539093b",
   "metadata": {},
   "outputs": [],
   "source": []
  },
  {
   "cell_type": "markdown",
   "id": "66706f1a-24b1-4360-bb4b-cfd5320c74e1",
   "metadata": {},
   "source": [
    "### <font color = '#e64626'><a id='model_4'>4.2. Model 4: *model name*</a></font>"
   ]
  },
  {
   "cell_type": "code",
   "execution_count": null,
   "id": "0496ca08-c337-4bdd-9bba-ea82811f509f",
   "metadata": {},
   "outputs": [],
   "source": []
  },
  {
   "cell_type": "markdown",
   "id": "fdf2fc10-ab23-4a93-804a-12381f8d4a8d",
   "metadata": {},
   "source": [
    "### <font color = '#e64626'><a id='mode_5'>4.2. Model 5: *model name*</a></font>"
   ]
  },
  {
   "cell_type": "code",
   "execution_count": null,
   "id": "2c60a312-2f10-40d1-9c49-4d57734a6067",
   "metadata": {},
   "outputs": [],
   "source": []
  }
 ],
 "metadata": {
  "kernelspec": {
   "display_name": "Python 3 (ipykernel)",
   "language": "python",
   "name": "python3"
  },
  "language_info": {
   "codemirror_mode": {
    "name": "ipython",
    "version": 3
   },
   "file_extension": ".py",
   "mimetype": "text/x-python",
   "name": "python",
   "nbconvert_exporter": "python",
   "pygments_lexer": "ipython3",
   "version": "3.10.4"
  }
 },
 "nbformat": 4,
 "nbformat_minor": 5
}

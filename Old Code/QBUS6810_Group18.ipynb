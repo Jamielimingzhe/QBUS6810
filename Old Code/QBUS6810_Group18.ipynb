{
 "cells": [
  {
   "cell_type": "code",
   "execution_count": 1,
   "id": "9aaa62f5",
   "metadata": {},
   "outputs": [],
   "source": [
    "import numpy as np\n",
    "import pandas as pd\n",
    "\n",
    "import seaborn as sns\n",
    "import matplotlib.pyplot as plt\n",
    "\n",
    "from tqdm import tqdm\n",
    "from sklearn.feature_extraction.text import TfidfVectorizer\n",
    "from sklearn.linear_model import LinearRegression\n",
    "from sklearn.feature_extraction.text import CountVectorizer\n",
    "from sklearn.model_selection import train_test_split\n",
    "import statsmodels.api as sm\n",
    "import missingno as msno\n",
    "from sklearn.preprocessing import StandardScaler\n",
    "from sklearn.linear_model import RidgeCV, Ridge\n",
    "from sklearn.linear_model import LassoCV, Lasso\n",
    "from sklearn.linear_model import ElasticNetCV, ElasticNet\n",
    "from sklearn.metrics import mean_squared_error, r2_score\n",
    "from sklearn.model_selection import cross_val_predict"
   ]
  },
  {
   "cell_type": "code",
   "execution_count": 2,
   "id": "b2865988",
   "metadata": {},
   "outputs": [],
   "source": [
    "train_ori = pd.read_csv('train.csv')\n",
    "test_ori = pd.read_csv('test.csv')\n",
    "y_ori = train_ori['price']\n",
    "train = pd.concat([train_ori.drop('price',axis=1),test_ori],axis=0,ignore_index=True)\n",
    "y = np.log(y_ori)"
   ]
  },
  {
   "cell_type": "code",
   "execution_count": 17,
   "id": "1211eea4",
   "metadata": {},
   "outputs": [
    {
     "name": "stderr",
     "output_type": "stream",
     "text": [
      "100%|███████████████████████████████████| 6000/6000 [00:00<00:00, 38986.62it/s]\n",
      "100%|██████████████████████████████████████| 6000/6000 [01:24<00:00, 70.90it/s]\n"
     ]
    }
   ],
   "source": [
    "train['amenities_clean'] = np.nan\n",
    "train['amenities_clean'] = train['amenities_clean'].astype('object')\n",
    "\n",
    "for i in tqdm(range(len(train['amenities']))):\n",
    "    train.at[i,'amenities_clean'] = train.loc[i,'amenities'][2:-2].split('\", \"')\n",
    "    \n",
    "for i in tqdm(range(len(train['amenities_clean']))):\n",
    "    for j in range(len(train.loc[i,'amenities_clean'])):\n",
    "        if 'Fast wifi \\\\u2013' in train.loc[i,'amenities_clean'][j]:\n",
    "            train.loc[i,'amenities_clean'][j] = 'Fast Wifi'\n",
    "        if 'Wifi \\\\u2013' in train.loc[i,'amenities_clean'][j]:\n",
    "            train.loc[i,'amenities_clean'][j] = 'Wifi'\n",
    "        if 'HDTV' in train.loc[i,'amenities_clean'][j]:\n",
    "            train.loc[i,'amenities_clean'][j] = 'HD Television'\n",
    "        if 'TV' in train.loc[i,'amenities_clean'][j]:\n",
    "            train.loc[i,'amenities_clean'][j] = 'TV'\n",
    "        if 'body soap' in train.loc[i,'amenities_clean'][j]:\n",
    "            train.loc[i,'amenities_clean'][j] = 'Body soap'\n",
    "        if 'shampoo' in train.loc[i,'amenities_clean'][j]:\n",
    "            train.loc[i,'amenities_clean'][j] = 'Shampoo'\n",
    "        if 'refrigerator' in train.loc[i,'amenities_clean'][j]:\n",
    "            train.loc[i,'amenities_clean'][j] = 'Refrigerator'\n",
    "        if 'fridge' in train.loc[i,'amenities_clean'][j]:\n",
    "            train.loc[i,'amenities_clean'][j] = 'Refrigerator'\n",
    "        if 'conditioner' in train.loc[i,'amenities_clean'][j]:\n",
    "            train.loc[i,'amenities_clean'][j] = 'Conditioner'\n",
    "        if 'stove' in train.loc[i,'amenities_clean'][j]:\n",
    "            train.loc[i,'amenities_clean'][j] = 'Stove'\n",
    "        if 'oven' in train.loc[i,'amenities_clean'][j]:\n",
    "            train.loc[i,'amenities_clean'][j] = 'Oven'\n",
    "        if 'sound system' in train.loc[i,'amenities_clean'][j]:\n",
    "            train.loc[i,'amenities_clean'][j] = 'Sound system'\n",
    "        if 'Sound system' in train.loc[i,'amenities_clean'][j]:\n",
    "            train.loc[i,'amenities_clean'][j] = 'Sound system'\n",
    "        if 'Clothing storage' in train.loc[i,'amenities_clean'][j]:\n",
    "            train.loc[i,'amenities_clean'][j] = 'Clothing storage'\n",
    "        if 'Children\\\\u2019s books and toys' in train.loc[i,'amenities_clean'][j]:\n",
    "            train.loc[i,'amenities_clean'][j] = 'Children\\\\u2019s books and toys'\n",
    "        if 'Shared hot tub' in train.loc[i,'amenities_clean'][j]:\n",
    "            train.loc[i,'amenities_clean'][j] = 'Hot tub'\n",
    "        if 'Private hot tub' in train.loc[i,'amenities_clean'][j]:\n",
    "            train.loc[i,'amenities_clean'][j] = 'Private hot tub'\n",
    "        if 'Shared pool' in train.loc[i,'amenities_clean'][j]:\n",
    "            train.loc[i,'amenities_clean'][j] = 'Pool'\n",
    "        if 'Shared indoor pool' in train.loc[i,'amenities_clean'][j]:\n",
    "            train.loc[i,'amenities_clean'][j] = 'Pool'\n",
    "        if 'Shared outdoor pool' in train.loc[i,'amenities_clean'][j]:\n",
    "            train.loc[i,'amenities_clean'][j] = 'Pool'\n",
    "        if 'Private pool' in train.loc[i,'amenities_clean'][j]:\n",
    "            train.loc[i,'amenities_clean'][j] = 'Private pool'\n",
    "        if 'Private indoor pool' in train.loc[i,'amenities_clean'][j]:\n",
    "            train.loc[i,'amenities_clean'][j] = 'Private pool'\n",
    "        if 'Private outdoor pool' in train.loc[i,'amenities_clean'][j]:\n",
    "            train.loc[i,'amenities_clean'][j] = 'Private pool'\n",
    "        if 'Free washer' in train.loc[i,'amenities_clean'][j]:\n",
    "            train.loc[i,'amenities_clean'][j] = 'Washer'\n",
    "        if 'Paid washer' in train.loc[i,'amenities_clean'][j]:\n",
    "            train.loc[i,'amenities_clean'][j] = 'Washer'\n",
    "        if 'Washer' in train.loc[i,'amenities_clean'][j]:\n",
    "            train.loc[i,'amenities_clean'][j] = 'Washer'\n",
    "        if 'Dryer' in train.loc[i,'amenities_clean'][j]:\n",
    "            train.loc[i,'amenities_clean'][j] = 'Dryer'\n",
    "        if 'Free dryer' in train.loc[i,'amenities_clean'][j]:\n",
    "            train.loc[i,'amenities_clean'][j] = 'Dryer'\n",
    "        if 'Paid dryer' in train.loc[i,'amenities_clean'][j]:\n",
    "            train.loc[i,'amenities_clean'][j] = 'Dryer'\n",
    "        if 'on premises' in train.loc[i,'amenities_clean'][j]:\n",
    "            train.loc[i,'amenities_clean'][j] = 'Parking on premises'\n",
    "        if 'off premises' in train.loc[i,'amenities_clean'][j]:\n",
    "            train.loc[i,'amenities_clean'][j] = 'Parking off premises'\n",
    "        if 'Free street parking' in train.loc[i,'amenities_clean'][j]:\n",
    "            train.loc[i,'amenities_clean'][j] = 'Parking off premises'\n",
    "        if 'conditioning' in train.loc[i,'amenities_clean'][j]:\n",
    "            train.loc[i,'amenities_clean'][j] = 'Air conditioning'\n",
    "        if 'Game console' in train.loc[i,'amenities_clean'][j]:\n",
    "            train.loc[i,'amenities_clean'][j] = 'Game console'\n",
    "        if 'Gym' in train.loc[i,'amenities_clean'][j]:\n",
    "            train.loc[i,'amenities_clean'][j] = 'Gym'\n",
    "        if 'gym' in train.loc[i,'amenities_clean'][j]:\n",
    "            train.loc[i,'amenities_clean'][j] = 'Gym'\n",
    "        if 'coffee' in train.loc[i,'amenities_clean'][j]:\n",
    "            train.loc[i,'amenities_clean'][j] = 'Coffee maker'\n",
    "        if 'sauna' in train.loc[i,'amenities_clean'][j]:\n",
    "            train.loc[i,'amenities_clean'][j] = 'Sauna'\n",
    "        if 'high chair' in train.loc[i,'amenities_clean'][j]:\n",
    "            train.loc[i,'amenities_clean'][j] = 'High chair'\n",
    "        if 'High chair' in train.loc[i,'amenities_clean'][j]:\n",
    "            train.loc[i,'amenities_clean'][j] = 'High chair'\n",
    "        if 'crib' in train.loc[i,'amenities_clean'][j]:\n",
    "            train.loc[i,'amenities_clean'][j] = 'Crib'\n",
    "        if 'Crib' in train.loc[i,'amenities_clean'][j]:\n",
    "            train.loc[i,'amenities_clean'][j] = 'Crib'\n",
    "        if 'Fenced garden or backyard' in train.loc[i,'amenities_clean'][j]:\n",
    "            train.loc[i,'amenities_clean'][j] = 'Private garden or backyard'\n",
    "        if 'Private fenced garden or backyard' in train.loc[i,'amenities_clean'][j]:\n",
    "            train.loc[i,'amenities_clean'][j] = 'Private garden or backyard'\n",
    "        if 'Shared fenced garden or backyard' in train.loc[i,'amenities_clean'][j]:\n",
    "            train.loc[i,'amenities_clean'][j] = 'Shared garden or backyard'\n",
    "        if 'Private fenced garden or backyard' in train.loc[i,'amenities_clean'][j]:\n",
    "            train.loc[i,'amenities_clean'][j] = 'Private garden or backyard'"
   ]
  },
  {
   "cell_type": "code",
   "execution_count": 18,
   "id": "29b00d62",
   "metadata": {},
   "outputs": [],
   "source": [
    "amen_list = train['amenities_clean'].to_list()\n",
    "vectorizer = CountVectorizer(analyzer=lambda x: x)\n",
    "bow = vectorizer.fit_transform(amen_list)\n",
    "bow_df = pd.DataFrame(bow.todense(), columns = vectorizer.get_feature_names_out())\n",
    "\n",
    "# train['description'][train['description'].isna()] = ''\n",
    "# train['neighborhood_overview'][train['neighborhood_overview'].isna()] = ''\n",
    "\n",
    "# corpus_des = [i for i in train['description']]\n",
    "# corpus_des_neighbor = [i for i in train['neighborhood_overview']]\n",
    "\n",
    "# tfidf_vectorizer = TfidfVectorizer(stop_words = 'english')\n",
    "# tfidf_vectorizer.fit(corpus_des)\n",
    "# tfidf = tfidf_vectorizer.transform(corpus_des)\n",
    "# features = pd.DataFrame(tfidf.todense(), columns = tfidf_vectorizer.get_feature_names_out())\n",
    "\n",
    "# tfidf_vectorizer_neighbor = TfidfVectorizer(stop_words = 'english')\n",
    "# tfidf_vectorizer_neighbor.fit(corpus_des_neighbor)\n",
    "# tfidf_neighbor = tfidf_vectorizer_neighbor.transform(corpus_des)\n",
    "# features_neighbor = pd.DataFrame(tfidf_neighbor.todense(), columns = tfidf_vectorizer_neighbor.get_feature_names_out())\n",
    "\n",
    "# all_features = pd.concat([bow_df,features,features_neighbor],axis=1)"
   ]
  },
  {
   "cell_type": "code",
   "execution_count": 19,
   "id": "7d0ce5a4",
   "metadata": {},
   "outputs": [],
   "source": [
    "## room_type\n",
    "room_type_dummy=np.select(\n",
    "    condlist=[ \n",
    "        train['room_type'].str.contains('Private', case=False),\n",
    "        train['room_type'].str.contains('entire', case=False),\n",
    "        train['room_type'].str.contains('shared', case=False),\n",
    "        ],\n",
    "    choicelist=['Private', 'entire', 'shared'],\n",
    "    default='Hotel'\n",
    ")\n",
    "room_type_dummy = pd.DataFrame(room_type_dummy,columns=['room_type_dummy'])\n",
    "room_type_dummy=pd.get_dummies(room_type_dummy)\n",
    "## Instant bookable\n",
    "instant_bookable_dummy=pd.get_dummies(train['instant_bookable'],drop_first = True)\n",
    "instant_bookable_dummy.columns=['instant_bookable_dummy']\n",
    "## property type\n",
    "la=train['property_type']\n",
    "property_type_dummy = np.select(\n",
    "    condlist=[\n",
    "        la.str.contains('Private', case=False),\n",
    "        la.str.contains('entire', case=False),\n",
    "        ],\n",
    "    choicelist=['Private', 'entire'],\n",
    "    default='others'\n",
    ")\n",
    "\n",
    "property_type_dummy = pd.DataFrame(property_type_dummy,columns=['property_type_dummy'])\n",
    "property_type_dummy=pd.get_dummies(property_type_dummy)\n",
    "# Minimum night\n",
    "minimum_night=train['minimum_nights']\n",
    "\n",
    "minimum_night.values[minimum_night < 28] = 0\n",
    "minimum_night.values[minimum_night >= 28] = 1"
   ]
  },
  {
   "cell_type": "markdown",
   "id": "a234016f",
   "metadata": {},
   "source": [
    "# Emily"
   ]
  },
  {
   "cell_type": "code",
   "execution_count": 20,
   "id": "64891cab",
   "metadata": {},
   "outputs": [],
   "source": [
    "train[\"host_response_time\"] = train[\"host_response_time\"].fillna('NA')\n",
    "host_response_time_dummy = np.select(\n",
    "    condlist=[ \n",
    "       train['host_response_time'].str.contains('within an hour', case=False),\n",
    "        train['host_response_time'].str.contains('within a few hours', case=False),\n",
    "        train['host_response_time'].str.contains('within a day', case=False),\n",
    "        train['host_response_time'].str.contains('a few days or more', case=False),\n",
    "        ],\n",
    "    choicelist=['within an hour', 'within a few hours', 'within a day','a few days or more'],\n",
    "    default='others'\n",
    ")\n",
    "host_response_time_dummy = pd.DataFrame(host_response_time_dummy,columns=['host_response_time_dummy'])\n",
    "host_response_time_dummy = pd.get_dummies(host_response_time_dummy)\n",
    "\n",
    "train[\"host_response_rate\"] = train[\"host_response_rate\"].astype('str')\n",
    "train[\"host_response_rate\"] = train[\"host_response_rate\"].str.replace(\"%\",\"\")\n",
    "train[\"host_response_rate\"] = train[\"host_response_rate\"].astype('float')\n",
    "def hostrrate(rrate):\n",
    "    if rrate > 75:\n",
    "        return 'rrate over 75'\n",
    "    elif rrate > 50:\n",
    "        return 'rrate over 50'\n",
    "    else:\n",
    "        return 'rrate under 50'\n",
    "train[\"host_response_rate\"] = train[\"host_response_rate\"].apply(hostrrate)\n",
    "host_response_rate_dummy = np.select(\n",
    "    condlist=[ \n",
    "       train['host_response_rate'].str.contains('rrate over 50', case=False),\n",
    "        train['host_response_rate'].str.contains('rrate over 75', case=False),\n",
    "        ],\n",
    "    choicelist=['rrate over 50', 'rrate over 75',],\n",
    "    default='rrate under 50'\n",
    ")\n",
    "host_response_rate_dummy = pd.DataFrame(host_response_rate_dummy,columns=['host_response_rate_dummy'])\n",
    "host_response_rate_dummy = pd.get_dummies(host_response_rate_dummy)\n",
    "\n",
    "train[\"host_acceptance_rate\"] = train[\"host_acceptance_rate\"].astype('str')\n",
    "train[\"host_acceptance_rate\"] = train[\"host_acceptance_rate\"].str.replace(\"%\",\"\")\n",
    "train[\"host_acceptance_rate\"] = train[\"host_acceptance_rate\"].astype('float')\n",
    "def hostarate(arate):\n",
    "    if arate > 75:\n",
    "        return 'arate over 75'\n",
    "    elif arate > 50:\n",
    "        return 'arate over 50'\n",
    "    else:\n",
    "        return 'arate under 50'\n",
    "train[\"host_acceptance_rate\"] = train[\"host_acceptance_rate\"].apply(hostarate)\n",
    "host_acceptance_rate_dummy = np.select(\n",
    "    condlist=[ \n",
    "       train['host_acceptance_rate'].str.contains('rrate over 50', case=False),\n",
    "        train['host_acceptance_rate'].str.contains('rrate over 75', case=False),\n",
    "        ],\n",
    "    choicelist=['rrate over 50', 'rrate over 75',],\n",
    "    default='rrate under 50'\n",
    ")\n",
    "host_acceptance_rate_dummy = pd.DataFrame(host_acceptance_rate_dummy,columns=['host_acceptance_rate_dummy'])\n",
    "host_acceptance_rate_dummy = pd.get_dummies(host_acceptance_rate_dummy)\n",
    "\n",
    "host_is_superhost_dummy=pd.get_dummies(train['host_is_superhost'],drop_first = True)\n",
    "host_is_superhost_dummy.columns=['host_is_superhost']\n",
    "\n",
    "host_identity_verified_dummy=pd.get_dummies(train['host_identity_verified'],drop_first = True)\n",
    "host_identity_verified_dummy.columns=['host_identity_verified']\n",
    "\n",
    "train.loc[train[\"host_verifications\"] == \"['email', 'phone', 'work_email']\", \"host_verifications\"] = 'Three types of verifications'\n",
    "train.loc[train[\"host_verifications\"] == \"['email', 'phone']\", \"host_verifications\"] = 'Two types of verifications'\n",
    "train.loc[train[\"host_verifications\"] == \"['phone', 'work_email']\", \"host_verifications\"] = 'Two types of verifications'\n",
    "train.loc[train[\"host_verifications\"] == \"['email']\", \"host_verifications\"] = 'One types of verifications'\n",
    "train.loc[train[\"host_verifications\"] == \"['phone']\", \"host_verifications\"] = 'One types of verifications'\n",
    "train.loc[train[\"host_verifications\"] == \"[]\", \"host_verifications\"] = 'Two types of verifications'\n",
    "host_verifications_dummy = np.select(\n",
    "    condlist=[ \n",
    "       train['host_verifications'].str.contains('One types of verifications', case=False),\n",
    "        train['host_verifications'].str.contains('Two types of verifications', case=False),\n",
    "        ],\n",
    "    choicelist=['One types of verifications', 'Two types of verifications',],\n",
    "    default='Three types of verifications'\n",
    ")\n",
    "host_verifications_dummy = pd.DataFrame(host_verifications_dummy,columns=['host_verifications_dummy'])\n",
    "host_verifications_dummy = pd.get_dummies(host_verifications_dummy)\n"
   ]
  },
  {
   "cell_type": "markdown",
   "id": "1f7eb01c",
   "metadata": {},
   "source": [
    "# Location"
   ]
  },
  {
   "cell_type": "code",
   "execution_count": 3,
   "id": "c8278d49",
   "metadata": {},
   "outputs": [],
   "source": [
    "Location = pd.get_dummies(train['neighbourhood_cleansed'])"
   ]
  },
  {
   "cell_type": "code",
   "execution_count": 38,
   "id": "049fa7dc",
   "metadata": {},
   "outputs": [],
   "source": [
    "Score = train.iloc[:,26:-3]"
   ]
  },
  {
   "cell_type": "code",
   "execution_count": 161,
   "id": "4e73e7ac",
   "metadata": {},
   "outputs": [],
   "source": [
    "emily = pd.concat([host_response_time_dummy, host_response_rate_dummy,host_acceptance_rate_dummy,host_is_superhost_dummy,train['host_listings_count'],host_verifications_dummy],axis=1)"
   ]
  },
  {
   "cell_type": "code",
   "execution_count": 189,
   "id": "c9540955",
   "metadata": {},
   "outputs": [],
   "source": [
    "train['start_year'] = pd.to_datetime(train['host_since']).dt.year"
   ]
  },
  {
   "cell_type": "code",
   "execution_count": 195,
   "id": "c6e36dec",
   "metadata": {},
   "outputs": [],
   "source": [
    "# train['bedrooms'],train['beds'],np.log(train['accommodates']\n",
    "zeshen=pd.concat([minimum_night, property_type_dummy,instant_bookable_dummy,room_type_dummy,np.log(train['bedrooms'])],axis=1)"
   ]
  },
  {
   "cell_type": "code",
   "execution_count": 185,
   "id": "68dbab83",
   "metadata": {},
   "outputs": [
    {
     "name": "stderr",
     "output_type": "stream",
     "text": [
      "/var/folders/nq/xtfndg6x53g0ffw66wk7g0100000gn/T/ipykernel_86475/963675506.py:1: SettingWithCopyWarning: \n",
      "A value is trying to be set on a copy of a slice from a DataFrame\n",
      "\n",
      "See the caveats in the documentation: https://pandas.pydata.org/pandas-docs/stable/user_guide/indexing.html#returning-a-view-versus-a-copy\n",
      "  train['bedrooms'].loc[train['bedrooms'].isna()] = round(train['accommodates'][train['bedrooms'].isna()]/2,0)\n"
     ]
    }
   ],
   "source": [
    "train['bedrooms'].loc[train['bedrooms'].isna()] = round(train['accommodates'][train['bedrooms'].isna()]/2,0)\n",
    "train.loc[train['bedrooms'] == 0,'bedrooms'] = 1"
   ]
  },
  {
   "cell_type": "code",
   "execution_count": 9,
   "id": "aa7b388d",
   "metadata": {},
   "outputs": [],
   "source": [
    "# combine = pd.concat([zeshen,Location,Score,bow_df],axis=1)\n",
    "combine = pd.concat([Location],axis=1)"
   ]
  },
  {
   "cell_type": "markdown",
   "id": "e2893e74",
   "metadata": {},
   "source": [
    "# Models"
   ]
  },
  {
   "cell_type": "code",
   "execution_count": 30,
   "id": "d6c849df",
   "metadata": {},
   "outputs": [],
   "source": [
    "r_score_list = np.zeros(1000)\n",
    "\n",
    "for i in range(1000):\n",
    "    X_train, X_vali, y_train, y_vali = train_test_split(combine[:4000], y, test_size = 0.2)#,random_state = 2)\n",
    "    linear_reg = LinearRegression()\n",
    "    linear_reg.fit(X_train, y_train)\n",
    "#     linear_reg.score(X_vali,y_vali)\n",
    "    r_score_list[i] = linear_reg.score(X_vali,y_vali)*100\n"
   ]
  },
  {
   "cell_type": "code",
   "execution_count": 53,
   "id": "da4e26a2",
   "metadata": {},
   "outputs": [
    {
     "data": {
      "text/plain": [
       "16.55662121362253"
      ]
     },
     "execution_count": 53,
     "metadata": {},
     "output_type": "execute_result"
    }
   ],
   "source": [
    "pd.Series(r_score_list)[0:910].mean()"
   ]
  },
  {
   "cell_type": "code",
   "execution_count": 216,
   "id": "e8f6c713",
   "metadata": {},
   "outputs": [
    {
     "data": {
      "text/plain": [
       "0.13921126843677087"
      ]
     },
     "execution_count": 216,
     "metadata": {},
     "output_type": "execute_result"
    }
   ],
   "source": [
    "mean_squared_error(y_true=y_vali, y_pred=linear_reg.predict(X_vali), squared=True)"
   ]
  },
  {
   "cell_type": "code",
   "execution_count": 167,
   "id": "35f20240",
   "metadata": {},
   "outputs": [
    {
     "data": {
      "text/plain": [
       "<BarContainer object of 14 artists>"
      ]
     },
     "execution_count": 167,
     "metadata": {},
     "output_type": "execute_result"
    },
    {
     "data": {
      "image/png": "[encoded data removed]",
      "text/plain": [
       "<Figure size 432x288 with 1 Axes>"
      ]
     },
     "metadata": {
      "needs_background": "light"
     },
     "output_type": "display_data"
    }
   ],
   "source": [
    "plt.bar(np.arange(len(linear_reg.coef_)),linear_reg.coef_)"
   ]
  },
  {
   "cell_type": "code",
   "execution_count": 168,
   "id": "b732e8c7",
   "metadata": {},
   "outputs": [
    {
     "data": {
      "text/plain": [
       "array([-3.45353519e-02,  3.15873471e-01,  5.60467305e-02, -1.01815956e-01,\n",
       "       -2.35568894e-01,  2.75824169e-01,  3.28335742e-02, -3.08657743e-01,\n",
       "        2.77555756e-17,  5.13182451e-02,  1.95840699e-03,  2.61512761e-02,\n",
       "        8.25136665e-02, -1.08664943e-01])"
      ]
     },
     "execution_count": 168,
     "metadata": {},
     "output_type": "execute_result"
    }
   ],
   "source": [
    "linear_reg.coef_"
   ]
  },
  {
   "cell_type": "code",
   "execution_count": 217,
   "id": "36cdbd2a",
   "metadata": {},
   "outputs": [
    {
     "data": {
      "text/plain": [
       "<matplotlib.collections.PathCollection at 0x7fccdaf5e920>"
      ]
     },
     "execution_count": 217,
     "metadata": {},
     "output_type": "execute_result"
    },
    {
     "data": {
      "image/png": "[encoded data removed]",
      "text/plain": [
       "<Figure size 432x288 with 1 Axes>"
      ]
     },
     "metadata": {
      "needs_background": "light"
     },
     "output_type": "display_data"
    }
   ],
   "source": [
    "plt.scatter(linear_reg.predict(X_vali),y_vali)"
   ]
  },
  {
   "cell_type": "markdown",
   "id": "a083350a",
   "metadata": {},
   "source": [
    "# Submission"
   ]
  },
  {
   "cell_type": "code",
   "execution_count": 99,
   "id": "434d7905",
   "metadata": {},
   "outputs": [
    {
     "data": {
      "text/html": [
       "<style>#sk-container-id-2 {color: black;background-color: white;}#sk-container-id-2 pre{padding: 0;}#sk-container-id-2 div.sk-toggleable {background-color: white;}#sk-container-id-2 label.sk-toggleable__label {cursor: pointer;display: block;width: 100%;margin-bottom: 0;padding: 0.3em;box-sizing: border-box;text-align: center;}#sk-container-id-2 label.sk-toggleable__label-arrow:before {content: \"▸\";float: left;margin-right: 0.25em;color: #696969;}#sk-container-id-2 label.sk-toggleable__label-arrow:hover:before {color: black;}#sk-container-id-2 div.sk-estimator:hover label.sk-toggleable__label-arrow:before {color: black;}#sk-container-id-2 div.sk-toggleable__content {max-height: 0;max-width: 0;overflow: hidden;text-align: left;background-color: #f0f8ff;}#sk-container-id-2 div.sk-toggleable__content pre {margin: 0.2em;color: black;border-radius: 0.25em;background-color: #f0f8ff;}#sk-container-id-2 input.sk-toggleable__control:checked~div.sk-toggleable__content {max-height: 200px;max-width: 100%;overflow: auto;}#sk-container-id-2 input.sk-toggleable__control:checked~label.sk-toggleable__label-arrow:before {content: \"▾\";}#sk-container-id-2 div.sk-estimator input.sk-toggleable__control:checked~label.sk-toggleable__label {background-color: #d4ebff;}#sk-container-id-2 div.sk-label input.sk-toggleable__control:checked~label.sk-toggleable__label {background-color: #d4ebff;}#sk-container-id-2 input.sk-hidden--visually {border: 0;clip: rect(1px 1px 1px 1px);clip: rect(1px, 1px, 1px, 1px);height: 1px;margin: -1px;overflow: hidden;padding: 0;position: absolute;width: 1px;}#sk-container-id-2 div.sk-estimator {font-family: monospace;background-color: #f0f8ff;border: 1px dotted black;border-radius: 0.25em;box-sizing: border-box;margin-bottom: 0.5em;}#sk-container-id-2 div.sk-estimator:hover {background-color: #d4ebff;}#sk-container-id-2 div.sk-parallel-item::after {content: \"\";width: 100%;border-bottom: 1px solid gray;flex-grow: 1;}#sk-container-id-2 div.sk-label:hover label.sk-toggleable__label {background-color: #d4ebff;}#sk-container-id-2 div.sk-serial::before {content: \"\";position: absolute;border-left: 1px solid gray;box-sizing: border-box;top: 0;bottom: 0;left: 50%;z-index: 0;}#sk-container-id-2 div.sk-serial {display: flex;flex-direction: column;align-items: center;background-color: white;padding-right: 0.2em;padding-left: 0.2em;position: relative;}#sk-container-id-2 div.sk-item {position: relative;z-index: 1;}#sk-container-id-2 div.sk-parallel {display: flex;align-items: stretch;justify-content: center;background-color: white;position: relative;}#sk-container-id-2 div.sk-item::before, #sk-container-id-2 div.sk-parallel-item::before {content: \"\";position: absolute;border-left: 1px solid gray;box-sizing: border-box;top: 0;bottom: 0;left: 50%;z-index: -1;}#sk-container-id-2 div.sk-parallel-item {display: flex;flex-direction: column;z-index: 1;position: relative;background-color: white;}#sk-container-id-2 div.sk-parallel-item:first-child::after {align-self: flex-end;width: 50%;}#sk-container-id-2 div.sk-parallel-item:last-child::after {align-self: flex-start;width: 50%;}#sk-container-id-2 div.sk-parallel-item:only-child::after {width: 0;}#sk-container-id-2 div.sk-dashed-wrapped {border: 1px dashed gray;margin: 0 0.4em 0.5em 0.4em;box-sizing: border-box;padding-bottom: 0.4em;background-color: white;}#sk-container-id-2 div.sk-label label {font-family: monospace;font-weight: bold;display: inline-block;line-height: 1.2em;}#sk-container-id-2 div.sk-label-container {text-align: center;}#sk-container-id-2 div.sk-container {/* jupyter's `normalize.less` sets `[hidden] { display: none; }` but bootstrap.min.css set `[hidden] { display: none !important; }` so we also need the `!important` here to be able to override the default hidden behavior on the sphinx rendered scikit-learn.org. See: https://github.com/scikit-learn/scikit-learn/issues/21755 */display: inline-block !important;position: relative;}#sk-container-id-2 div.sk-text-repr-fallback {display: none;}</style><div id=\"sk-container-id-2\" class=\"sk-top-container\"><div class=\"sk-text-repr-fallback\"><pre>LinearRegression()</pre><b>In a Jupyter environment, please rerun this cell to show the HTML representation or trust the notebook. <br />On GitHub, the HTML representation is unable to render, please try loading this page with nbviewer.org.</b></div><div class=\"sk-container\" hidden><div class=\"sk-item\"><div class=\"sk-estimator sk-toggleable\"><input class=\"sk-toggleable__control sk-hidden--visually\" id=\"sk-estimator-id-2\" type=\"checkbox\" checked><label for=\"sk-estimator-id-2\" class=\"sk-toggleable__label sk-toggleable__label-arrow\">LinearRegression</label><div class=\"sk-toggleable__content\"><pre>LinearRegression()</pre></div></div></div></div></div>"
      ],
      "text/plain": [
       "LinearRegression()"
      ]
     },
     "execution_count": 99,
     "metadata": {},
     "output_type": "execute_result"
    }
   ],
   "source": [
    "linear_reg = LinearRegression()\n",
    "linear_reg.fit(combine[:4000], y)"
   ]
  },
  {
   "cell_type": "code",
   "execution_count": 111,
   "id": "3b2dd37d",
   "metadata": {},
   "outputs": [],
   "source": [
    "test = combine[-2000:].reset_index(drop=True)"
   ]
  },
  {
   "cell_type": "code",
   "execution_count": 114,
   "id": "9b9b7d3a",
   "metadata": {},
   "outputs": [],
   "source": [
    "result = linear_reg.predict(test)\n",
    "result = np.clip(result, y_train.min(), y_train.max())"
   ]
  },
  {
   "cell_type": "code",
   "execution_count": 118,
   "id": "f88a72dd",
   "metadata": {},
   "outputs": [],
   "source": [
    "# pd.DataFrame(np.exp(result),columns=['price']).to_csv('OLS_submission.csv')"
   ]
  },
  {
   "cell_type": "markdown",
   "id": "2d5aced5",
   "metadata": {},
   "source": [
    "# OLS Ridge Lasso Elastic Net"
   ]
  },
  {
   "cell_type": "code",
   "execution_count": 136,
   "id": "95fd1008",
   "metadata": {},
   "outputs": [],
   "source": [
    "scaler = StandardScaler()\n",
    "scaler.fit(combine[:4000])\n",
    "\n",
    "X_scaled = scaler.transform(combine[:4000])\n",
    "# X_train_scaled, X_test_scaled, y_train, y_test = train_test_split(X_scaled, y, test_size = 0.2)\n",
    "X_train_scaled, X_test_scaled, y_train, y_test = train_test_split(combine[:4000], y, test_size = 0.2)\n",
    "# linear_reg = LinearRegression()\n",
    "# linear_reg.fit(X_train_scaled, y_train)\n",
    "# linear_reg.score(X_test_scaled,y_test)"
   ]
  },
  {
   "cell_type": "code",
   "execution_count": 137,
   "id": "50803fec",
   "metadata": {},
   "outputs": [],
   "source": [
    "ols = LinearRegression()\n",
    "ols.fit(X_train_scaled, y_train);"
   ]
  },
  {
   "cell_type": "code",
   "execution_count": 138,
   "id": "e1360fd4",
   "metadata": {},
   "outputs": [],
   "source": [
    "alphas = np.logspace(-5, 4, 151)\n",
    "ridge = RidgeCV(alphas=alphas, cv=5)\n",
    "ridge.fit(X_train_scaled, y_train)\n",
    "best_ridge = Ridge(alpha=ridge.alpha_);"
   ]
  },
  {
   "cell_type": "code",
   "execution_count": 139,
   "id": "1ebbf14d",
   "metadata": {},
   "outputs": [],
   "source": [
    "lasso = LassoCV(cv=5)\n",
    "lasso.fit(X_train_scaled, y_train)\n",
    "best_lasso = Lasso(alpha=lasso.alpha_);"
   ]
  },
  {
   "cell_type": "code",
   "execution_count": 140,
   "id": "0c8b8624",
   "metadata": {},
   "outputs": [],
   "source": [
    "elastic_net = ElasticNetCV(l1_ratio=[0.01, 0.1, 0.2, 0.3, 0.4, 0.5, 0.6, 0.7, 0.8, 0.9, 0.99], cv=5)\n",
    "elastic_net.fit(X_train_scaled, y_train)\n",
    "best_elastic_net = ElasticNet(l1_ratio=elastic_net.l1_ratio_, alpha=elastic_net.alpha_);"
   ]
  },
  {
   "cell_type": "code",
   "execution_count": 141,
   "id": "00bdd847",
   "metadata": {},
   "outputs": [],
   "source": [
    "predictors = list(X_train.columns.values)"
   ]
  },
  {
   "cell_type": "code",
   "execution_count": 142,
   "id": "ed6e3cda",
   "metadata": {},
   "outputs": [
    {
     "data": {
      "image/png": "[encoded data removed]",
      "text/plain": [
       "<Figure size 720x720 with 4 Axes>"
      ]
     },
     "metadata": {
      "needs_background": "light"
     },
     "output_type": "display_data"
    }
   ],
   "source": [
    "n_coefs = 15\n",
    "model = [ols, ridge, lasso, elastic_net]\n",
    "model_name = ['OLS', 'Ridge', 'Lasso', 'Elastic Net']\n",
    "plt.figure(figsize = (10, 10))\n",
    "\n",
    "for i in range(len(model)):\n",
    "    betas = model[i].coef_\n",
    "\n",
    "    indicies = np.argsort(np.abs(betas))[-n_coefs:]\n",
    "    top_predictors = np.array(predictors)[indicies]\n",
    "    top_betas = betas[indicies]\n",
    "\n",
    "    plt.subplot(2, 2, i+1)\n",
    "    plt.barh(top_predictors, top_betas, alpha=0.5, edgecolor='black')\n",
    "    sns.despine()\n",
    "    plt.xlabel('Beta coefficient')\n",
    "    plt.title(model_name[i]);\n",
    "plt.suptitle('Figure 5. Top {} Beta Coefficients'.format(n_coefs), fontsize = 16)\n",
    "plt.tight_layout()"
   ]
  },
  {
   "cell_type": "code",
   "execution_count": 143,
   "id": "da641bb2",
   "metadata": {},
   "outputs": [
    {
     "data": {
      "image/png": "[encoded data removed]",
      "text/plain": [
       "<Figure size 864x720 with 4 Axes>"
      ]
     },
     "metadata": {
      "needs_background": "light"
     },
     "output_type": "display_data"
    }
   ],
   "source": [
    "model = [ols, ridge, lasso, elastic_net]\n",
    "model_name = ['OLS', 'Ridge', 'Lasso', 'Elastic Net']\n",
    "p = len(predictors)\n",
    "\n",
    "plt.figure(figsize = (12, 10))\n",
    "for i in range(len(model)):\n",
    "    plt.subplot(len(model), 1, i+1)\n",
    "    plt.bar(np.arange(p), model[i].coef_, width=1, alpha=0.5, edgecolor = 'black')\n",
    "    plt.xticks([])\n",
    "    plt.xlim([-1.5, p+0.5])\n",
    "    plt.ylim([-0.1, 0.2])\n",
    "    plt.ylabel(model_name[i] + '\\nBeta Coefficient')\n",
    "plt.xticks([0, 50, 100, 150])\n",
    "plt.xlabel('Predictor Number')\n",
    "plt.suptitle('Figure 6. Comparison of all Beta Coefficients', fontsize=16);"
   ]
  },
  {
   "cell_type": "code",
   "execution_count": 144,
   "id": "169f25dd",
   "metadata": {},
   "outputs": [],
   "source": [
    "results = pd.DataFrame(columns=['RMSE', 'R2'])\n",
    "\n",
    "ols = LinearRegression()\n",
    "y_pred = cross_val_predict(ols, X_train_scaled, y_train, cv=5)\n",
    "\n",
    "# OLS sometimes makes crazy predictions so we clip them to something sensible\n",
    "y_pred = np.clip(y_pred, y_train.min(), y_train.max())\n",
    "\n",
    "rmse = mean_squared_error(np.exp(y_train), np.exp(y_pred), squared=False)\n",
    "r2 = r2_score(np.exp(y_train), np.exp(y_pred))\n",
    "\n",
    "results.loc['OLS'] = rmse, r2\n",
    "\n",
    "y_pred = cross_val_predict(best_ridge, X_train_scaled, y_train, cv=5)\n",
    "\n",
    "rmse = mean_squared_error(np.exp(y_train), np.exp(y_pred), squared=False)\n",
    "r2 = r2_score(np.exp(y_train), np.exp(y_pred))\n",
    "\n",
    "results.loc['Ridge'] = rmse, r2\n",
    "\n",
    "y_pred = cross_val_predict(best_lasso, X_train_scaled, y_train, cv=5)\n",
    "\n",
    "rmse = mean_squared_error(np.exp(y_train), np.exp(y_pred), squared=False)\n",
    "r2 = r2_score(np.exp(y_train), np.exp(y_pred))\n",
    "\n",
    "results.loc['Lasso'] = rmse, r2\n",
    "\n",
    "y_pred = cross_val_predict(best_elastic_net, X_train_scaled, y_train, cv=5)\n",
    "\n",
    "rmse = mean_squared_error(np.exp(y_train), np.exp(y_pred), squared=False)\n",
    "r2 = r2_score(np.exp(y_train), np.exp(y_pred))\n",
    "\n",
    "results.loc['Elastic Net'] = rmse, r2"
   ]
  },
  {
   "cell_type": "code",
   "execution_count": 145,
   "id": "4343e243",
   "metadata": {},
   "outputs": [
    {
     "data": {
      "text/html": [
       "<div>\n",
       "<style scoped>\n",
       "    .dataframe tbody tr th:only-of-type {\n",
       "        vertical-align: middle;\n",
       "    }\n",
       "\n",
       "    .dataframe tbody tr th {\n",
       "        vertical-align: top;\n",
       "    }\n",
       "\n",
       "    .dataframe thead th {\n",
       "        text-align: right;\n",
       "    }\n",
       "</style>\n",
       "<table border=\"1\" class=\"dataframe\">\n",
       "  <thead>\n",
       "    <tr style=\"text-align: right;\">\n",
       "      <th></th>\n",
       "      <th>RMSE</th>\n",
       "      <th>R2</th>\n",
       "    </tr>\n",
       "  </thead>\n",
       "  <tbody>\n",
       "    <tr>\n",
       "      <th>OLS</th>\n",
       "      <td>149.34</td>\n",
       "      <td>0.61</td>\n",
       "    </tr>\n",
       "    <tr>\n",
       "      <th>Ridge</th>\n",
       "      <td>151.68</td>\n",
       "      <td>0.60</td>\n",
       "    </tr>\n",
       "    <tr>\n",
       "      <th>Lasso</th>\n",
       "      <td>152.90</td>\n",
       "      <td>0.59</td>\n",
       "    </tr>\n",
       "    <tr>\n",
       "      <th>Elastic Net</th>\n",
       "      <td>152.91</td>\n",
       "      <td>0.59</td>\n",
       "    </tr>\n",
       "  </tbody>\n",
       "</table>\n",
       "</div>"
      ],
      "text/plain": [
       "               RMSE    R2\n",
       "OLS          149.34  0.61\n",
       "Ridge        151.68  0.60\n",
       "Lasso        152.90  0.59\n",
       "Elastic Net  152.91  0.59"
      ]
     },
     "execution_count": 145,
     "metadata": {},
     "output_type": "execute_result"
    }
   ],
   "source": [
    "results.round(2)"
   ]
  },
  {
   "cell_type": "code",
   "execution_count": 146,
   "id": "1438f5dd",
   "metadata": {},
   "outputs": [
    {
     "name": "stdout",
     "output_type": "stream",
     "text": [
      "Our lasso model has a test RMSE of 155 and a test r-squared coefficient of 0.51\n"
     ]
    }
   ],
   "source": [
    "y_pred = lasso.predict(X_test_scaled)\n",
    "\n",
    "rmse = mean_squared_error(np.exp(y_test), np.exp(y_pred), squared=False)\n",
    "r2 = r2_score(np.exp(y_test), np.exp(y_pred))\n",
    "\n",
    "print('Our lasso model has a test RMSE of {:.0f} and a test r-squared coefficient of {:.2f}'.format(rmse, r2))"
   ]
  },
  {
   "cell_type": "code",
   "execution_count": null,
   "id": "3b81abc4",
   "metadata": {},
   "outputs": [],
   "source": []
  }
 ],
 "metadata": {
  "kernelspec": {
   "display_name": "Python 3 (ipykernel)",
   "language": "python",
   "name": "python3"
  },
  "language_info": {
   "codemirror_mode": {
    "name": "ipython",
    "version": 3
   },
   "file_extension": ".py",
   "mimetype": "text/x-python",
   "name": "python",
   "nbconvert_exporter": "python",
   "pygments_lexer": "ipython3",
   "version": "3.10.4"
  }
 },
 "nbformat": 4,
 "nbformat_minor": 5
}
